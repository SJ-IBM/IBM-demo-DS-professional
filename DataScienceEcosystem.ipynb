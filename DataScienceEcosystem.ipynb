{
 "cells": [
  {
   "cell_type": "markdown",
   "id": "84091df8-c7a3-455d-8dae-0bde6e249b6d",
   "metadata": {},
   "source": [
    "# Data Science Tools and Ecosystem"
   ]
  },
  {
   "cell_type": "markdown",
   "id": "afbaee9f-7734-438c-934c-a4082acfdf62",
   "metadata": {},
   "source": [
    "In this notebook, Data Science Tools and Ecosystem are summarized."
   ]
  },
  {
   "cell_type": "markdown",
   "id": "e41f2414-34e7-4368-bb03-bf940c63a5ad",
   "metadata": {},
   "source": [
    "**Objectives:**\n",
    "In this course, you will learn\n",
    "* The popular programming languages used in Data Science\n",
    "* Commonly used Data Science libraries\n",
    "* Commonly used Data Science tools\n",
    "* To evaluate mathematical expressions in Python, as an introduction to programming"
   ]
  },
  {
   "cell_type": "markdown",
   "id": "4dd5f9da-7739-44d4-96af-7e5c3594ed90",
   "metadata": {},
   "source": [
    "## Languages\n",
    "Some of the popular languages that Data Scientists use are:\n",
    "<ol>\n",
    "    <li>Python</li>\n",
    "    <li>R</li>\n",
    "    <li>SQL</li>\n",
    "    <li>Java</li>\n",
    "    <li>C++</li>\n",
    "    <li>Scala</li>\n",
    "    <li>Julia</li>\n",
    "</ol>"
   ]
  },
  {
   "cell_type": "markdown",
   "id": "66e964a9-943f-43a5-a519-94823bb477dc",
   "metadata": {},
   "source": [
    "## Libraries\n",
    "Commonly used data science libraries in Python include:\n",
    "<ol>\n",
    "    <li>pandas</li>\n",
    "    <li>numpy</li>\n",
    "    <li>matplotlib</li>\n",
    "    <li>scikit-learn</li>\n",
    "    <li>tensorflow</li>\n",
    "</ol>\n",
    "\n",
    "R data science libraries include:\n",
    "<ol>\n",
    "    <li>dplyr</li>\n",
    "    <li>purrr</li>\n",
    "    <li>ggplot</li>\n",
    "    <li>caret</li>\n",
    "</ol>"
   ]
  },
  {
   "cell_type": "markdown",
   "id": "f55c42bb-4558-4012-a89d-d2f7e56d1fd5",
   "metadata": {},
   "source": [
    "## Tools\n",
    "Commonly used data science tools include:\n",
    "\n",
    "|Data Science Tools      |\n",
    "|------------------------|\n",
    "|Spark                   |\n",
    "|Tableau                 |\n",
    "|Power BI                |\n",
    "|Jupyter notebooks       |\n",
    "|Google Colab            |\n",
    "|Github                  |\n",
    "|Anaconda                |\n",
    "|Spyder                  |\n",
    "|Rstudio                 |\n"
   ]
  },
  {
   "cell_type": "markdown",
   "id": "76b0baa5-ad11-4230-902d-5e8eeec958c1",
   "metadata": {},
   "source": [
    "### Below are a few examples of evaluating arithmetic expressions in Python"
   ]
  },
  {
   "cell_type": "code",
   "execution_count": 1,
   "id": "a50cc557-12cc-46b1-aa97-69cb6de126a0",
   "metadata": {
    "tags": []
   },
   "outputs": [
    {
     "data": {
      "text/plain": [
       "17"
      ]
     },
     "execution_count": 1,
     "metadata": {},
     "output_type": "execute_result"
    }
   ],
   "source": [
    "# This a simple arithmetic expression to mutiply then add integers\n",
    "(3*4)+5"
   ]
  },
  {
   "cell_type": "code",
   "execution_count": 2,
   "id": "fd8b66a6-9292-4024-a675-d508e631e9d6",
   "metadata": {
    "tags": []
   },
   "outputs": [
    {
     "name": "stdout",
     "output_type": "stream",
     "text": [
      "200 minutes equals 3.33 hours\n"
     ]
    }
   ],
   "source": [
    "# This will convert 200 minutes to hours by diving by 60\n",
    "mins = 200\n",
    "hrs  = mins/60\n",
    "print( \"%d minutes equals %0.2f hours\"%(mins,hrs))"
   ]
  },
  {
   "cell_type": "markdown",
   "id": "23300d9a-d536-4729-8c97-585b9579d0cf",
   "metadata": {
    "tags": []
   },
   "source": [
    "## Author\n",
    "\n",
    "Sherlyn Jemimah"
   ]
  }
 ],
 "metadata": {
  "kernelspec": {
   "display_name": "Python",
   "language": "python",
   "name": "conda-env-python-py"
  },
  "language_info": {
   "codemirror_mode": {
    "name": "ipython",
    "version": 3
   },
   "file_extension": ".py",
   "mimetype": "text/x-python",
   "name": "python",
   "nbconvert_exporter": "python",
   "pygments_lexer": "ipython3",
   "version": "3.7.12"
  }
 },
 "nbformat": 4,
 "nbformat_minor": 5
}
